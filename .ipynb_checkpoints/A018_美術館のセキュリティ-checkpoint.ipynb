{
 "cells": [
  {
   "cell_type": "code",
   "execution_count": 47,
   "metadata": {},
   "outputs": [
    {
     "name": "stdout",
     "output_type": "stream",
     "text": [
      "10 10 1 4\n",
      "5 5 90 90 3\n",
      "5 7\n",
      "5 9\n",
      "5 3\n",
      "2 4\n",
      "no\n",
      "no\n",
      "no\n",
      "no\n"
     ]
    }
   ],
   "source": [
    "import math\n",
    "\n",
    "def main():\n",
    "    cameras, positions = set_params()\n",
    "    \n",
    "    for position in positions:\n",
    "        flg = False\n",
    "        for camera in cameras:\n",
    "            if is_cover(camera, position):\n",
    "                flg = True\n",
    "                print('yes')\n",
    "                break\n",
    "        if flg == False:\n",
    "            print('no') \n",
    "\n",
    "def set_params():\n",
    "    cameras = []\n",
    "    positions = []\n",
    "    \n",
    "    settings = input()\n",
    "    W,H,M,N = settings.split(' ')\n",
    "    \n",
    "    for _ in range(int(M)):\n",
    "        camera = input()\n",
    "        x,y, t, d, r = camera.split(' ')\n",
    "        cameras.append((x,y, t, d, r))\n",
    "    \n",
    "    for _ in range(int(N)):\n",
    "        position = input()\n",
    "        a, b = position.split(' ')\n",
    "        positions.append((a,b))\n",
    "    \n",
    "    return cameras, positions\n",
    "\n",
    "def is_cover(camera, position):\n",
    "    x,y, t, d, r = camera\n",
    "    a, b = position\n",
    "    \n",
    "    a1, b1 = line_function(int(x),int(y), float(((int(d)/2) +int(t)) *  math.pi / 180))\n",
    "    a2, b2 = line_function(int(x),int(y), float((int(t)-(int(d)/2)) *  math.pi / 180))\n",
    "    \n",
    "    r1 = int(a) - int(x)\n",
    "    r2 = int(b) - int(y)\n",
    "      \n",
    "    if  (r1**2) + (r2**2) < int(r)**2:\n",
    "        if (float(b) > float(a) * a2 + b2):\n",
    "            if  (float(b) < float(a) * a1 + b1):\n",
    "                return True\n",
    "    return False\n",
    "\n",
    "def line_function(x, y, rad):\n",
    "    return math.tan(rad), (y - x * math.tan(rad))\n",
    "\n",
    "main()\n",
    "        \n",
    "        "
   ]
  },
  {
   "cell_type": "code",
   "execution_count": 35,
   "metadata": {},
   "outputs": [
    {
     "name": "stdout",
     "output_type": "stream",
     "text": [
      "True\n"
     ]
    }
   ],
   "source": []
  },
  {
   "cell_type": "code",
   "execution_count": null,
   "metadata": {},
   "outputs": [],
   "source": []
  }
 ],
 "metadata": {
  "kernelspec": {
   "display_name": "Python 3",
   "language": "python",
   "name": "python3"
  },
  "language_info": {
   "codemirror_mode": {
    "name": "ipython",
    "version": 3
   },
   "file_extension": ".py",
   "mimetype": "text/x-python",
   "name": "python",
   "nbconvert_exporter": "python",
   "pygments_lexer": "ipython3",
   "version": "3.6.4"
  }
 },
 "nbformat": 4,
 "nbformat_minor": 2
}
