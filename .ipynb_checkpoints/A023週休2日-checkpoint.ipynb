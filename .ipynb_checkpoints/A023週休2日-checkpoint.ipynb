{
 "cells": [
  {
   "cell_type": "code",
   "execution_count": 22,
   "metadata": {},
   "outputs": [
    {
     "name": "stdout",
     "output_type": "stream",
     "text": [
      "9\n",
      "1 0 1 1 1 1 1 1 0\n",
      "0\n"
     ]
    }
   ],
   "source": [
    "def set_eval_arr():\n",
    "\n",
    "    N = input()\n",
    "    date_mode = input()\n",
    "    date_mode_arr = date_mode.split(' ')\n",
    "\n",
    "    No_item = int(N)\n",
    "\n",
    "    if No_item < 7:\n",
    "        return []\n",
    "    \n",
    "    eval_arr = []\n",
    "\n",
    "    for i in range(No_item - 6):\n",
    "        tem_arr = date_mode_arr[i:i+7]\n",
    "        if tem_arr.count('0') < 2:\n",
    "            eval_arr.append(0)\n",
    "        else:\n",
    "            eval_arr.append(1)\n",
    "    \n",
    "    return eval_arr\n",
    "\n",
    "def main():\n",
    "    eval_arr = set_eval_arr()\n",
    "    \n",
    "    if len(eval_arr) == 0:\n",
    "        return 0\n",
    "    else:\n",
    "        max_continuosly_arr = []\n",
    "        \n",
    "        for i in range(len(eval_arr)):\n",
    "            if eval_arr[i] == 1:\n",
    "                max_continuosly_1 = 0\n",
    "                for j in range(i, len(eval_arr)):\n",
    "                    if eval_arr[j] == 0:\n",
    "                        break\n",
    "                    else:\n",
    "                        max_continuosly_1 += 1\n",
    "                max_continuosly_arr.append(max_continuosly_1)\n",
    "        \n",
    "        if len(max_continuosly_arr) == 0:\n",
    "            return 0\n",
    "        else:\n",
    "            max_cont_1 = max(max_continuosly_arr)\n",
    "            return (max_cont_1 + 6)\n",
    "            \n",
    "\n",
    "print(main())"
   ]
  }
 ],
 "metadata": {
  "kernelspec": {
   "display_name": "Python 3",
   "language": "python",
   "name": "python3"
  },
  "language_info": {
   "codemirror_mode": {
    "name": "ipython",
    "version": 3
   },
   "file_extension": ".py",
   "mimetype": "text/x-python",
   "name": "python",
   "nbconvert_exporter": "python",
   "pygments_lexer": "ipython3",
   "version": "3.6.4"
  }
 },
 "nbformat": 4,
 "nbformat_minor": 2
}
